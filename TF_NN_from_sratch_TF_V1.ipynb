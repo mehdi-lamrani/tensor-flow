{
  "nbformat": 4,
  "nbformat_minor": 0,
  "metadata": {
    "colab": {
      "provenance": [],
      "authorship_tag": "ABX9TyMORERg84vmfOn7YfQ3jpia",
      "include_colab_link": true
    },
    "kernelspec": {
      "name": "python3",
      "display_name": "Python 3"
    },
    "language_info": {
      "name": "python"
    }
  },
  "cells": [
    {
      "cell_type": "markdown",
      "metadata": {
        "id": "view-in-github",
        "colab_type": "text"
      },
      "source": [
        "<a href=\"https://colab.research.google.com/github/mehdi-lamrani/tensorflow/blob/main/TF_NN_from_sratch_TF_V1.ipynb\" target=\"_parent\"><img src=\"https://colab.research.google.com/assets/colab-badge.svg\" alt=\"Open In Colab\"/></a>"
      ]
    },
    {
      "cell_type": "code",
      "source": [
        "!pip install tensorflow==1.15"
      ],
      "metadata": {
        "id": "zKFz6ztW8ONK"
      },
      "execution_count": null,
      "outputs": []
    },
    {
      "cell_type": "code",
      "execution_count": 1,
      "metadata": {
        "colab": {
          "base_uri": "https://localhost:8080/"
        },
        "id": "l17DYmIc8GsY",
        "outputId": "bc960938-ac08-4e9c-dc23-6e12943b30d9"
      },
      "outputs": [
        {
          "output_type": "stream",
          "name": "stderr",
          "text": [
            "WARNING:tensorflow:From <ipython-input-1-22e9f8e8ded2>:81: dense (from tensorflow.python.layers.core) is deprecated and will be removed in a future version.\n",
            "Instructions for updating:\n",
            "Use keras.layers.Dense instead.\n",
            "WARNING:tensorflow:From /usr/local/lib/python3.7/dist-packages/tensorflow_core/python/layers/core.py:187: Layer.apply (from tensorflow.python.keras.engine.base_layer) is deprecated and will be removed in a future version.\n",
            "Instructions for updating:\n",
            "Please use `layer.__call__` method instead.\n"
          ]
        },
        {
          "output_type": "stream",
          "name": "stdout",
          "text": [
            "x_data_test\n",
            "[[0 0 0]\n",
            " [0 1 1]\n",
            " [1 0 1]\n",
            " [1 0 0]\n",
            " [0 1 0]]\n",
            "\n",
            "y_estimate_test\n",
            "[[0.20595986]\n",
            " [9.973456  ]\n",
            " [9.987224  ]\n",
            " [5.1030297 ]\n",
            " [5.0892625 ]]\n",
            "\n"
          ]
        }
      ],
      "source": [
        "\"\"\"Dead simple tutorial for defining and training a small feedforward neural\n",
        "network (also known as a multilayer perceptron) for regression using TensorFlow 1.X.\n",
        "\n",
        "Introduces basic TensorFlow concepts including the computational graph,\n",
        "placeholder variables, and the TensorFlow Session.\n",
        "\n",
        "Author: Ji-Sung Kim\n",
        "\"\"\"\n",
        "\n",
        "from __future__ import absolute_import\n",
        "from __future__ import division\n",
        "from __future__ import print_function\n",
        "\n",
        "import numpy as np\n",
        "import tensorflow as tf\n",
        "\n",
        "\n",
        "\"\"\"Summary\n",
        "\n",
        "TensorFlow is a unique computation framework: it is used for defining \n",
        "computational graphs and running these graphs. TensorFlow was originally \n",
        "designed for constructing and manipulating deep neural networks. \n",
        "\n",
        "TensorFlow is special in that it does not dynamically compute the values \n",
        "of the outputs of operations. This is in contrast with standard Python which\n",
        "dynamically computes the outputs of operations. In TensorFlow, we have to\n",
        "instead  specify a static computational graph using tensors, and then explicitly \n",
        "run the graph (through a `tf.Session()` object).\n",
        "\n",
        "```typical Python\n",
        "x = 5\n",
        "y = x + 5\n",
        "print(y)  # prints 10\n",
        "```\n",
        "\n",
        "```TensorFlow\n",
        "import tensorflow as tf\n",
        "\n",
        "x = tf.constant(5)  # a tensor\n",
        "y = x + 5  # equivalent to tf.add(x, 5)\n",
        "print(y)  # doesn't print the actual value because graph has not been run\n",
        "sess = tf.Session()\n",
        "print(sess.run(y))  # prints 10\n",
        "```\n",
        "\n",
        "In this tutorial, we define a simple feedforward neural network with TensorFlow. \n",
        "\n",
        "This particular neural network takes in as input a placeholder tensor called\n",
        "x_placeholder of shape (batch_size, dim_input) and outputs a tensor of \n",
        "shape (batch_size, dim_output). The batch_size represents the number of\n",
        "instances in a single batch of samples run through the graph. We often use\n",
        "placeholders which represent empty tensors through which we can pass in\n",
        "arbitrary data. Of course, the actual data fed in through the placeholders\n",
        "must match the shape of the placeholders. \n",
        "\n",
        "We then compute the mean squared error between the network outputs (estimated\n",
        "target) and the true target values (which we feed in through the placeholder\n",
        "`y_placeholder`). We minimize this error to train the neural network; training\n",
        "involves adjusting the tunable parameters within the neural network model \n",
        "(here, specifically the weight and bias variables inside the `dense` layers) \n",
        "using gradient descent. \n",
        "\"\"\"\n",
        "dim_input = 3  # arbitrarily chosen for this example script\n",
        "dim_output = 1\n",
        "\n",
        "# define placeholders for inputs\n",
        "# We specify the batch_size dimension as None which let's it be variable even\n",
        "# though the `dim_input` and `dim_output` dimensions are fixed.\n",
        "x_placeholder = tf.placeholder(  # input features placeholder\n",
        "    'float', shape=[None, dim_input])\n",
        "y_placeholder = tf.placeholder(  # input true target placeholder\n",
        "    'float', shape=[None, dim_output])\n",
        "\n",
        "# Define the neural network which consists of two dense (fully connected)\n",
        "# layers (which comprise simple matrix multiplication and addition operations).\n",
        "# These \"layers\" are all TensorFlow operations which can be explicitly run.\n",
        "\n",
        "# The input to the first layer is the input features (given via\n",
        "# `x_placeholder`).\n",
        "\n",
        "intermediate_layer = tf.layers.dense(x_placeholder, 12)  # operation\n",
        "\n",
        "# We pass the outputs of the first layer as inputs to the second, final layer\n",
        "# which outputs the estimated target.\n",
        "final_layer = tf.layers.dense(intermediate_layer, dim_output)  # operation\n",
        "estimated_targets = final_layer  # just a different name for clarity\n",
        "\n",
        "# We define the `loss` (error) function which we minimize to train our neural\n",
        "# network. The following loss operation is equivalent to calling the helper\n",
        "# `tf.losses.mean_squared_error(y_placeholder, estimated_targets)` which also\n",
        "# returns an operation.\n",
        "loss = tf.square(tf.subtract(y_placeholder, estimated_targets))  # operation\n",
        "\n",
        "# We use the Adam optimizer which is an object which provides functions\n",
        "# to optimize (minimize) the loss using a variant of gradient descent.\n",
        "optimizer = tf.train.AdamOptimizer()   # object\n",
        "\n",
        "train_op = optimizer.minimize(loss)  # operation, from the AdamOptimizer object\n",
        "\n",
        "# We also define the initialization operation which is needed to initialize\n",
        "# the starting values of the variables in our computational graph.\n",
        "init_op = tf.global_variables_initializer()  # operation\n",
        "\n",
        "\n",
        "\"\"\"Now that we've defined our graph and various operations involving the graph, \n",
        "we are going to run the operations to train our neural network.\"\"\"\n",
        "\n",
        "# A Session is an abstract environment in which we run our graph and perform\n",
        "# calculations. It provides a common function `run()` for running operations.\n",
        "session = tf.Session()  # abstract environment\n",
        "\n",
        "# Run the initialization operation; no `feed_dict` needed as it has not\n",
        "# dependencies (covered later). Generally needed for most TensorFlow scripts.\n",
        "session.run(init_op)\n",
        "\n",
        "# Repeatedly train the neural network for `num_epoch` times\n",
        "num_epoch = 2000\n",
        "batch_size = 500\n",
        "for i in range(num_epoch):\n",
        "  # Define input training data. `x_data` represents the training data features\n",
        "  # which are 0 or 1; these are the input data to the neural network.\n",
        "  # `y_data` represents the training data \"true\" targets; `y_data` is just\n",
        "  # the outputs of the function y = 5 * sum(x) applied to the data batch.\n",
        "  # We are trying to learn this function (mapping from x to y) with our\n",
        "  # neural network. Neural networks are general function estimators.\n",
        "\n",
        "  # generate random binary np.array with shape (batch_size, 3)\n",
        "  x_data = np.random.randint(2, size=(batch_size, dim_input))\n",
        "  # calculate targets from feature array\n",
        "  y_data = 5 * np.sum(x_data, axis=-1).reshape((-1, 1))\n",
        "  # reshape to match `y_placeholder` shape which has a last dimension of 1\n",
        "  y_data = y_data.reshape((-1, 1))\n",
        "\n",
        "  # We specify what values we need to feed into our placeholders via `feed_dict`.\n",
        "  # We need to pass values into both `x_placeholder` and `y_placeholder` which\n",
        "  # are dependencies for the training op: 1) compute `estimated_targets` using\n",
        "  # `x_placeholder`, 2) compute the error `loss` compared to the true targets\n",
        "  # given by `y_placeholder`.\n",
        "  feed_dict = {\n",
        "      x_placeholder: x_data,\n",
        "      y_placeholder: y_data,\n",
        "  }\n",
        "\n",
        "  # Run the training operation defined earlier.\n",
        "  session.run(train_op, feed_dict=feed_dict)\n",
        "\n",
        "\n",
        "\"\"\"After we finished training our neural network (NN), we are going to use it\n",
        "with new test data. \"Using\" the neural network is just running new values\n",
        "through the computational graph that the NN represents. Again, we keep in mind\n",
        "a neural network is just a function which transforms some inputs to outputs.\"\"\"\n",
        "\n",
        "# We get new test data, again using the random numpy generation function.\n",
        "x_data_test = np.random.randint(2, size=(5, dim_input))\n",
        "\n",
        "# To see what estimates we get for our test data, we only need to feed in\n",
        "# values for `x_placeholder`, since the operation `estimated_targets` depends\n",
        "# ONLY on `x_placeholder`, and not on `y_placeholder`. We remember that\n",
        "# `y_placeholder` is only used to define the error/loss term and subsequently\n",
        "# in training.\n",
        "feed_dict = {\n",
        "    x_placeholder: x_data_test\n",
        "}\n",
        "y_estimate_test = session.run(estimated_targets, feed_dict=feed_dict)\n",
        "\n",
        "# Examine test data.\n",
        "print('x_data_test')\n",
        "print(x_data_test)\n",
        "print()\n",
        "\n",
        "# Are the estimates of the target from the NN close to what we expected?\n",
        "print('y_estimate_test')\n",
        "print(y_estimate_test)\n",
        "print()\n",
        "\n",
        "# We could also measure the error for the test_data but we would have to specify\n",
        "# the true target values for the test data and then pass it through `y_placeholder`\n",
        "# in the `feed_dict`. We could run the `loss` operation to compute the\n",
        "# test error.\n",
        "\n",
        "# This is left empty as an exercise to the reader."
      ]
    },
    {
      "cell_type": "code",
      "source": [
        "# generate random binary np.array with shape (batch_size, 3)\n",
        "x_data = np.random.randint(2, size=(batch_size, dim_input))\n",
        "# calculate targets from feature array\n",
        "y_data = 5 * np.sum(x_data, axis=-1).reshape((-1, 1))\n",
        "# reshape to match `y_placeholder` shape which has a last dimension of 1\n",
        "y_data = y_data.reshape((-1, 1))"
      ],
      "metadata": {
        "id": "jSZtpLXX-ZFz"
      },
      "execution_count": 3,
      "outputs": []
    },
    {
      "cell_type": "code",
      "source": [
        "print(x_data)\n"
      ],
      "metadata": {
        "id": "cBqKEixg-Z_i"
      },
      "execution_count": null,
      "outputs": []
    },
    {
      "cell_type": "code",
      "source": [
        "np.sum(x_data, axis=-1).reshape((-1, 1))"
      ],
      "metadata": {
        "id": "4Xas0IcA_CLm"
      },
      "execution_count": null,
      "outputs": []
    },
    {
      "cell_type": "code",
      "source": [
        "print(y_data)"
      ],
      "metadata": {
        "id": "CShG3xrZ-iOi"
      },
      "execution_count": null,
      "outputs": []
    },
    {
      "cell_type": "code",
      "source": [],
      "metadata": {
        "id": "_Wkn9VGG-nqt"
      },
      "execution_count": null,
      "outputs": []
    }
  ]
}