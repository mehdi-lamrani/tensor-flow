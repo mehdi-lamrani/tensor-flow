{
  "nbformat": 4,
  "nbformat_minor": 0,
  "metadata": {
    "colab": {
      "provenance": [],
      "authorship_tag": "ABX9TyNSvjRDwoPn0pdn2q7n9HyZ",
      "include_colab_link": true
    },
    "kernelspec": {
      "name": "python3",
      "display_name": "Python 3"
    },
    "language_info": {
      "name": "python"
    }
  },
  "cells": [
    {
      "cell_type": "markdown",
      "metadata": {
        "id": "view-in-github",
        "colab_type": "text"
      },
      "source": [
        "<a href=\"https://colab.research.google.com/github/mehdi-lamrani/tensorflow/blob/main/raw/TF_Transfer_Learning.ipynb\" target=\"_parent\"><img src=\"https://colab.research.google.com/assets/colab-badge.svg\" alt=\"Open In Colab\"/></a>"
      ]
    },
    {
      "cell_type": "code",
      "execution_count": null,
      "metadata": {
        "id": "GEmxZO5CjJrR"
      },
      "outputs": [],
      "source": [
        "import os\n",
        "\n",
        "import tensorflow as tf\n",
        "from tensorflow import keras\n",
        "from tensorflow.keras import layers\n",
        "from tensorflow.keras.datasets import mnist\n",
        "\n"
      ]
    },
    {
      "cell_type": "markdown",
      "source": [
        "- Pretrained Model "
      ],
      "metadata": {
        "id": "747PlxPrjoCq"
      }
    },
    {
      "cell_type": "code",
      "source": [
        "# ================================================ #\n",
        "#                  Pretrained Model                #\n",
        "# ================================================ #\n",
        "\n",
        "(x_train, y_train), (x_test, y_test) = mnist.load_data()\n",
        "x_train = x_train.reshape(-1, 28, 28, 1).astype(\"float32\") / 255.0\n",
        "x_test = x_test.reshape(-1, 28, 28, 1).astype(\"float32\") / 255.0\n",
        "\n",
        "model = keras.models.load_model(\"pretrained\")\n",
        "\n",
        "# Freeze all model layer weights\n",
        "model.trainable = False\n",
        "\n",
        "# Can also set trainable for specific layers\n",
        "for layer in model.layers:\n",
        "    # assert should be true because of one-liner above\n",
        "    assert layer.trainable == False\n",
        "    layer.trainable = False\n",
        "\n",
        "print(model.summary())  # for finding base input and output\n",
        "base_inputs = model.layers[0].input\n",
        "base_output = model.layers[-2].output\n",
        "output = layers.Dense(10)(base_output)\n",
        "new_model = keras.Model(base_inputs, output)\n",
        "\n",
        "# This model is actually identical to model we\n",
        "# loaded (this is just for demonstration and\n",
        "# and not something you would do in practice).\n",
        "print(new_model.summary())\n",
        "\n",
        "# As usual we do compile and fit, this time on new_model\n",
        "new_model.compile(\n",
        "    optimizer=keras.optimizers.Adam(),\n",
        "    loss=keras.losses.SparseCategoricalCrossentropy(from_logits=True),\n",
        "    metrics=[\"accuracy\"],\n",
        ")\n",
        "\n",
        "new_model.fit(x_train, y_train, batch_size=32, epochs=3, verbose=2)\n"
      ],
      "metadata": {
        "id": "PJW-hfbejSRe"
      },
      "execution_count": null,
      "outputs": []
    },
    {
      "cell_type": "markdown",
      "source": [
        "- Pretrained Keras Model"
      ],
      "metadata": {
        "id": "0rQIgGENjkyb"
      }
    },
    {
      "cell_type": "code",
      "source": [
        "\n",
        "# =================================================== #\n",
        "#                Pretrained Keras Model               #\n",
        "# =================================================== #\n",
        "\n",
        "# Random data for demonstration (3 examples w. 3 classes)\n",
        "x = tf.random.normal(shape=(3, 299, 299, 3))\n",
        "y = tf.constant([0, 1, 2])\n",
        "\n",
        "model = keras.applications.InceptionV3(include_top=True)\n",
        "print(model.summary())\n",
        "\n",
        "# for input you can also do model.input,\n",
        "# then for base_outputs you can obviously\n",
        "# choose other than simply removing the last one :)\n",
        "base_inputs = model.layers[0].input\n",
        "base_outputs = model.layers[-2].output\n",
        "classifier = layers.Dense(3)(base_outputs)\n",
        "new_model = keras.Model(inputs=base_inputs, outputs=classifier)\n",
        "new_model.compile(\n",
        "    optimizer=keras.optimizers.Adam(),\n",
        "    loss=keras.losses.SparseCategoricalCrossentropy(from_logits=True),\n",
        "    metrics=[\"accuracy\"],\n",
        ")\n",
        "\n",
        "print(new_model.summary())\n",
        "new_model.fit(x, y, epochs=15, verbose=2)\n",
        "\n"
      ],
      "metadata": {
        "id": "y65sJUeCjUeG"
      },
      "execution_count": null,
      "outputs": []
    },
    {
      "cell_type": "markdown",
      "source": [
        "- Pretrained Hub Model"
      ],
      "metadata": {
        "id": "oS_tgnwkjiVy"
      }
    },
    {
      "cell_type": "code",
      "source": [
        "!pip install tensorflow_hub"
      ],
      "metadata": {
        "id": "oeoqpQJmj44A"
      },
      "execution_count": null,
      "outputs": []
    },
    {
      "cell_type": "code",
      "source": [
        "import tensorflow_hub as hub "
      ],
      "metadata": {
        "id": "qSoHEPKSj4ek"
      },
      "execution_count": null,
      "outputs": []
    },
    {
      "cell_type": "code",
      "source": [
        "# ================================================= #\n",
        "#                Pretrained Hub Model               #\n",
        "# ================================================= #\n",
        "\n",
        "# Random data for demonstration (3 examples w. 3 classes)\n",
        "x = tf.random.normal(shape=(3, 299, 299, 3))\n",
        "y = tf.constant([0, 1, 2])\n",
        "\n",
        "url = \"https://tfhub.dev/google/imagenet/inception_v3/feature_vector/4\"\n",
        "\n",
        "base_model = hub.KerasLayer(url, input_shape=(299, 299, 3))\n",
        "model = keras.Sequential(\n",
        "    [\n",
        "        base_model,\n",
        "        layers.Dense(128, activation=\"relu\"),\n",
        "        layers.Dense(64, activation=\"relu\"),\n",
        "        layers.Dense(10),\n",
        "    ]\n",
        ")\n",
        "\n",
        "model.compile(\n",
        "    optimizer=keras.optimizers.Adam(),\n",
        "    loss=keras.losses.SparseCategoricalCrossentropy(from_logits=True),\n",
        "    metrics=[\"accuracy\"],\n",
        ")\n",
        "\n",
        "model.fit(x, y, batch_size=32, epochs=15, verbose=2)"
      ],
      "metadata": {
        "id": "QLL3JAcPjU2T"
      },
      "execution_count": null,
      "outputs": []
    }
  ]
}