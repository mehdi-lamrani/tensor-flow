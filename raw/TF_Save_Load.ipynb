{
  "nbformat": 4,
  "nbformat_minor": 0,
  "metadata": {
    "colab": {
      "provenance": [],
      "authorship_tag": "ABX9TyNt2Iv1LFxhwVbuBMeIgWrp",
      "include_colab_link": true
    },
    "kernelspec": {
      "name": "python3",
      "display_name": "Python 3"
    },
    "language_info": {
      "name": "python"
    }
  },
  "cells": [
    {
      "cell_type": "markdown",
      "metadata": {
        "id": "view-in-github",
        "colab_type": "text"
      },
      "source": [
        "<a href=\"https://colab.research.google.com/github/mehdi-lamrani/tensorflow/blob/main/raw/TF_Save_Load.ipynb\" target=\"_parent\"><img src=\"https://colab.research.google.com/assets/colab-badge.svg\" alt=\"Open In Colab\"/></a>"
      ]
    },
    {
      "cell_type": "code",
      "execution_count": 1,
      "metadata": {
        "colab": {
          "base_uri": "https://localhost:8080/"
        },
        "id": "EeVKP_c2bwAm",
        "outputId": "12d0a444-3461-4f80-bf1a-4206116d62da"
      },
      "outputs": [
        {
          "output_type": "stream",
          "name": "stdout",
          "text": [
            "Downloading data from https://storage.googleapis.com/tensorflow/tf-keras-datasets/mnist.npz\n",
            "11490434/11490434 [==============================] - 0s 0us/step\n"
          ]
        }
      ],
      "source": [
        "import os\n",
        "\n",
        "import tensorflow as tf\n",
        "from tensorflow import keras\n",
        "from tensorflow.keras import layers\n",
        "from tensorflow.keras.datasets import mnist\n",
        "\n",
        "(x_train, y_train), (x_test, y_test) = mnist.load_data()\n",
        "x_train = x_train.reshape(-1, 28 * 28).astype(\"float32\") / 255.0\n",
        "x_test = x_test.reshape(-1, 28 * 28).astype(\"float32\") / 255.0\n",
        "\n",
        "\n",
        "\n"
      ]
    },
    {
      "cell_type": "markdown",
      "source": [
        "1. How to save and load model weights\n",
        "2. Save and loading entire model (Serializing model)\n",
        "   - Saves weights\n",
        "   - Model architecture\n",
        "   - Training Configuration (model.compile())\n",
        "   - Optimizer and states"
      ],
      "metadata": {
        "id": "VSp0twx8cgQj"
      }
    },
    {
      "cell_type": "markdown",
      "source": [
        "- Sequential Model"
      ],
      "metadata": {
        "id": "H8m1YtwdcvAF"
      }
    },
    {
      "cell_type": "code",
      "source": [
        "model1 = keras.Sequential([layers.Dense(64, activation=\"relu\"), layers.Dense(10)])"
      ],
      "metadata": {
        "id": "73kQltTZcDaL"
      },
      "execution_count": 9,
      "outputs": []
    },
    {
      "cell_type": "markdown",
      "source": [
        "- Functional Model"
      ],
      "metadata": {
        "id": "59gEFkxac3O9"
      }
    },
    {
      "cell_type": "code",
      "source": [
        "inputs = keras.Input(784)\n",
        "x = layers.Dense(64, activation=\"relu\")(inputs)\n",
        "outputs = layers.Dense(10)(x)\n",
        "\n",
        "model2 = keras.Model(inputs=inputs, outputs=outputs)"
      ],
      "metadata": {
        "id": "md9ZI6WccGTO"
      },
      "execution_count": null,
      "outputs": []
    },
    {
      "cell_type": "markdown",
      "source": [
        "- Custom Model"
      ],
      "metadata": {
        "id": "DvHpXwO7c7CQ"
      }
    },
    {
      "cell_type": "code",
      "source": [
        "class MyModel(keras.Model):\n",
        "    def __init__(self):\n",
        "        super(MyModel, self).__init__()\n",
        "        self.dense1 = layers.Dense(64, activation=\"relu\")\n",
        "        self.dense2 = layers.Dense(10)\n",
        "\n",
        "    def call(self, input_tensor):\n",
        "        x = tf.nn.relu(self.dense1(input_tensor))\n",
        "        return self.dense2(x)\n",
        "\n",
        "model3 = MyModel()"
      ],
      "metadata": {
        "id": "ITyhD47TcIFr"
      },
      "execution_count": null,
      "outputs": []
    },
    {
      "cell_type": "markdown",
      "source": [
        "- [SavedModel](https://www.tensorflow.org/tutorials/keras/save_and_load#savedmodel_format) format or[ HDF5 format](https://www.tensorflow.org/tutorials/keras/save_and_load#hdf5_format)\n"
      ],
      "metadata": {
        "id": "Dtjiu4N6doJX"
      }
    },
    {
      "cell_type": "code",
      "source": [
        "model = model1"
      ],
      "metadata": {
        "id": "lfNxojMtcaXJ"
      },
      "execution_count": 10,
      "outputs": []
    },
    {
      "cell_type": "code",
      "source": [
        "model.compile(\n",
        "    loss=keras.losses.SparseCategoricalCrossentropy(from_logits=True),\n",
        "    optimizer=keras.optimizers.Adam(),\n",
        "    metrics=[\"accuracy\"],\n",
        ")"
      ],
      "metadata": {
        "id": "ErxpfXLVcTf1"
      },
      "execution_count": 4,
      "outputs": []
    },
    {
      "cell_type": "code",
      "source": [
        "model.fit(x_train, y_train, batch_size=32, epochs=2, verbose=2)\n",
        "model.evaluate(x_test, y_test, batch_size=32, verbose=2)\n"
      ],
      "metadata": {
        "colab": {
          "base_uri": "https://localhost:8080/"
        },
        "id": "Tx__cmgAcVeD",
        "outputId": "d7570b9a-0d64-4e10-95b4-c725c673b153"
      },
      "execution_count": 5,
      "outputs": [
        {
          "output_type": "stream",
          "name": "stdout",
          "text": [
            "Epoch 1/2\n",
            "1875/1875 - 4s - loss: 0.3010 - accuracy: 0.9134 - 4s/epoch - 2ms/step\n",
            "Epoch 2/2\n",
            "1875/1875 - 3s - loss: 0.1498 - accuracy: 0.9567 - 3s/epoch - 2ms/step\n",
            "313/313 - 1s - loss: 0.1359 - accuracy: 0.9576 - 594ms/epoch - 2ms/step\n"
          ]
        },
        {
          "output_type": "execute_result",
          "data": {
            "text/plain": [
              "[0.1358570158481598, 0.9575999975204468]"
            ]
          },
          "metadata": {},
          "execution_count": 5
        }
      ]
    },
    {
      "cell_type": "code",
      "source": [
        "model.save_weights('./checkpoint_folder/')\n",
        "model.save(\"./saved_model/\")"
      ],
      "metadata": {
        "id": "eMXJu9cpdW66"
      },
      "execution_count": 6,
      "outputs": []
    },
    {
      "cell_type": "code",
      "source": [
        "model = keras.models.load_model('./saved_model/')"
      ],
      "metadata": {
        "id": "FXxE62Rkdc9b"
      },
      "execution_count": 12,
      "outputs": []
    },
    {
      "cell_type": "code",
      "source": [
        "model.load_weights('./checkpoint_folder/')"
      ],
      "metadata": {
        "id": "j-Ode1UldgrK"
      },
      "execution_count": null,
      "outputs": []
    },
    {
      "cell_type": "code",
      "source": [
        "model.fit(x_train, y_train, batch_size=32, epochs=2, verbose=2)\n"
      ],
      "metadata": {
        "colab": {
          "base_uri": "https://localhost:8080/"
        },
        "id": "yEfJFVnYemBP",
        "outputId": "17819a23-206a-4303-8b43-1aecc8ca09f6"
      },
      "execution_count": 8,
      "outputs": [
        {
          "output_type": "stream",
          "name": "stdout",
          "text": [
            "Epoch 1/2\n",
            "1875/1875 - 4s - loss: 0.1105 - accuracy: 0.9669 - 4s/epoch - 2ms/step\n",
            "Epoch 2/2\n",
            "1875/1875 - 4s - loss: 0.0847 - accuracy: 0.9751 - 4s/epoch - 2ms/step\n",
            "313/313 - 1s - loss: 0.0942 - accuracy: 0.9710 - 576ms/epoch - 2ms/step\n"
          ]
        },
        {
          "output_type": "execute_result",
          "data": {
            "text/plain": [
              "[0.09420792013406754, 0.9710000157356262]"
            ]
          },
          "metadata": {},
          "execution_count": 8
        }
      ]
    },
    {
      "cell_type": "code",
      "source": [
        "model.evaluate(x_test, y_test, batch_size=32, verbose=2)\n"
      ],
      "metadata": {
        "colab": {
          "base_uri": "https://localhost:8080/"
        },
        "id": "e1YIUfnbenKh",
        "outputId": "3fa8b9c1-2ff5-495a-8d39-699a4ee2365f"
      },
      "execution_count": 13,
      "outputs": [
        {
          "output_type": "stream",
          "name": "stdout",
          "text": [
            "313/313 - 1s - loss: 0.1359 - accuracy: 0.9576 - 560ms/epoch - 2ms/step\n"
          ]
        },
        {
          "output_type": "execute_result",
          "data": {
            "text/plain": [
              "[0.1358570158481598, 0.9575999975204468]"
            ]
          },
          "metadata": {},
          "execution_count": 13
        }
      ]
    },
    {
      "cell_type": "code",
      "source": [],
      "metadata": {
        "id": "NkAWk7Jdey05"
      },
      "execution_count": null,
      "outputs": []
    }
  ]
}