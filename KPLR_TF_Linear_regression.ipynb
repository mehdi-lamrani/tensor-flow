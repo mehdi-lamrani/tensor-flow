{
  "nbformat": 4,
  "nbformat_minor": 0,
  "metadata": {
    "colab": {
      "provenance": [],
      "authorship_tag": "ABX9TyN6kEu8tMi5y11vfK/cO8C2",
      "include_colab_link": true
    },
    "kernelspec": {
      "name": "python3",
      "display_name": "Python 3"
    },
    "language_info": {
      "name": "python"
    }
  },
  "cells": [
    {
      "cell_type": "markdown",
      "metadata": {
        "id": "view-in-github",
        "colab_type": "text"
      },
      "source": [
        "<a href=\"https://colab.research.google.com/github/mehdi-lamrani/tensorflow/blob/main/KPLR_TF_Linear_regression.ipynb\" target=\"_parent\"><img src=\"https://colab.research.google.com/assets/colab-badge.svg\" alt=\"Open In Colab\"/></a>"
      ]
    },
    {
      "cell_type": "code",
      "execution_count": 1,
      "metadata": {
        "id": "QdSq4Rm-QrRn"
      },
      "outputs": [],
      "source": [
        "# Import Relevant libraries\n",
        "import tensorflow as tf\n",
        "import numpy as np\n",
        "import matplotlib.pyplot as plt"
      ]
    },
    {
      "cell_type": "code",
      "source": [
        "# Define Learning rate\n",
        "learning_rate = 0.01\n",
        "\n",
        "# Number of loops for training through all your data to update the parameters\n",
        "training_epochs = 100\n",
        "\n",
        "# the training dataset\n",
        "x_train = np.linspace(0, 10, 20)\n",
        "y_train = x_train + np.random.normal(0,1,20)\n",
        "\n",
        "# plot of data\n",
        "plt.scatter(x_train, y_train)"
      ],
      "metadata": {
        "colab": {
          "base_uri": "https://localhost:8080/",
          "height": 283
        },
        "id": "u3L4PxqaQtUe",
        "outputId": "ca1e69f7-923d-41c4-a2d9-cb5dac7eafe7"
      },
      "execution_count": 4,
      "outputs": [
        {
          "output_type": "execute_result",
          "data": {
            "text/plain": [
              "<matplotlib.collections.PathCollection at 0x7f88dc2b83d0>"
            ]
          },
          "metadata": {},
          "execution_count": 4
        },
        {
          "output_type": "display_data",
          "data": {
            "text/plain": [
              "<Figure size 432x288 with 1 Axes>"
            ],
            "image/png": "[encoded data removed]"
          },
          "metadata": {
            "needs_background": "light"
          }
        }
      ]
    },
    {
      "cell_type": "code",
      "source": [
        "# declare weight & bias as tf Variables\n",
        "weight = tf.Variable(0.)\n",
        "bias = tf.Variable(0.)"
      ],
      "metadata": {
        "id": "DliQsd0FQuPN"
      },
      "execution_count": 3,
      "outputs": []
    },
    {
      "cell_type": "code",
      "source": [
        "# Define linear regression expression y\n",
        "def linear_regression(x):\n",
        "  y = weight * x + bias\n",
        "  return y"
      ],
      "metadata": {
        "id": "LYxsCj6GQwOJ"
      },
      "execution_count": 8,
      "outputs": []
    },
    {
      "cell_type": "code",
      "source": [
        "# Define loss function (MSE)\n",
        "def squared_error(y_pred, y_true):\n",
        "  return tf.reduce_mean(tf.square(y_pred - y_true))"
      ],
      "metadata": {
        "id": "RQvEp22NQ9Iw"
      },
      "execution_count": 5,
      "outputs": []
    },
    {
      "cell_type": "code",
      "source": [
        "# train model\n",
        "for epoch in range(training_epochs):\n",
        "\n",
        "  # Compute loss within Gradient Tape context\n",
        "  with tf.GradientTape() as tape:\n",
        "    y_predicted = linear_regression(x_train)\n",
        "    loss = squared_error(y_predicted, y_train)\n",
        "\n",
        "    # Get gradients\n",
        "    gradients = tape.gradient(loss, [weight,bias])\n",
        "\n",
        "    # Adjust weights\n",
        "    weight.assign_sub(gradients[0]*learning_rate)\n",
        "    bias.assign_sub(gradients[1]*learning_rate)\n",
        "\n",
        "    # Print output\n",
        "    print(f\"Epoch count {epoch}: Loss value: {loss.numpy()}\")\n"
      ],
      "metadata": {
        "colab": {
          "base_uri": "https://localhost:8080/"
        },
        "id": "Y9gou5zNRADY",
        "outputId": "f22a483b-f281-48e8-ff78-ee1a635a6eac"
      },
      "execution_count": 9,
      "outputs": [
        {
          "output_type": "stream",
          "name": "stdout",
          "text": [
            "Epoch count 0: Loss value: 38.87602996826172\n",
            "Epoch count 1: Loss value: 4.0641913414001465\n",
            "Epoch count 2: Loss value: 0.9089338183403015\n",
            "Epoch count 3: Loss value: 0.6229492425918579\n",
            "Epoch count 4: Loss value: 0.5970279574394226\n",
            "Epoch count 5: Loss value: 0.5946784019470215\n",
            "Epoch count 6: Loss value: 0.5944653749465942\n",
            "Epoch count 7: Loss value: 0.5944459438323975\n",
            "Epoch count 8: Loss value: 0.5944440960884094\n",
            "Epoch count 9: Loss value: 0.5944437980651855\n",
            "Epoch count 10: Loss value: 0.594443678855896\n",
            "Epoch count 11: Loss value: 0.5944436192512512\n",
            "Epoch count 12: Loss value: 0.5944433212280273\n",
            "Epoch count 13: Loss value: 0.5944433212280273\n",
            "Epoch count 14: Loss value: 0.5944433212280273\n",
            "Epoch count 15: Loss value: 0.5944432020187378\n",
            "Epoch count 16: Loss value: 0.5944430232048035\n",
            "Epoch count 17: Loss value: 0.5944428443908691\n",
            "Epoch count 18: Loss value: 0.5944429636001587\n",
            "Epoch count 19: Loss value: 0.5944427251815796\n",
            "Epoch count 20: Loss value: 0.59444260597229\n",
            "Epoch count 21: Loss value: 0.5944424867630005\n",
            "Epoch count 22: Loss value: 0.5944426655769348\n",
            "Epoch count 23: Loss value: 0.5944424867630005\n",
            "Epoch count 24: Loss value: 0.5944424271583557\n",
            "Epoch count 25: Loss value: 0.5944423079490662\n",
            "Epoch count 26: Loss value: 0.5944422483444214\n",
            "Epoch count 27: Loss value: 0.5944421291351318\n",
            "Epoch count 28: Loss value: 0.5944420099258423\n",
            "Epoch count 29: Loss value: 0.5944417119026184\n",
            "Epoch count 30: Loss value: 0.5944416522979736\n",
            "Epoch count 31: Loss value: 0.5944415926933289\n",
            "Epoch count 32: Loss value: 0.5944415330886841\n",
            "Epoch count 33: Loss value: 0.594441294670105\n",
            "Epoch count 34: Loss value: 0.5944412350654602\n",
            "Epoch count 35: Loss value: 0.5944412350654602\n",
            "Epoch count 36: Loss value: 0.5944409370422363\n",
            "Epoch count 37: Loss value: 0.5944410562515259\n",
            "Epoch count 38: Loss value: 0.5944409370422363\n",
            "Epoch count 39: Loss value: 0.5944409370422363\n",
            "Epoch count 40: Loss value: 0.5944409370422363\n",
            "Epoch count 41: Loss value: 0.594440758228302\n",
            "Epoch count 42: Loss value: 0.5944405198097229\n",
            "Epoch count 43: Loss value: 0.5944405198097229\n",
            "Epoch count 44: Loss value: 0.5944405794143677\n",
            "Epoch count 45: Loss value: 0.5944403409957886\n",
            "Epoch count 46: Loss value: 0.5944403409957886\n",
            "Epoch count 47: Loss value: 0.5944402813911438\n",
            "Epoch count 48: Loss value: 0.5944401025772095\n",
            "Epoch count 49: Loss value: 0.5944401025772095\n",
            "Epoch count 50: Loss value: 0.5944401025772095\n",
            "Epoch count 51: Loss value: 0.5944399833679199\n",
            "Epoch count 52: Loss value: 0.5944399237632751\n",
            "Epoch count 53: Loss value: 0.5944398641586304\n",
            "Epoch count 54: Loss value: 0.594439685344696\n",
            "Epoch count 55: Loss value: 0.594439685344696\n",
            "Epoch count 56: Loss value: 0.594439685344696\n",
            "Epoch count 57: Loss value: 0.5944396257400513\n",
            "Epoch count 58: Loss value: 0.5944393873214722\n",
            "Epoch count 59: Loss value: 0.5944392085075378\n",
            "Epoch count 60: Loss value: 0.5944393277168274\n",
            "Epoch count 61: Loss value: 0.5944392681121826\n",
            "Epoch count 62: Loss value: 0.5944393873214722\n",
            "Epoch count 63: Loss value: 0.5944392085075378\n",
            "Epoch count 64: Loss value: 0.5944389700889587\n",
            "Epoch count 65: Loss value: 0.5944391489028931\n",
            "Epoch count 66: Loss value: 0.5944388508796692\n",
            "Epoch count 67: Loss value: 0.5944388508796692\n",
            "Epoch count 68: Loss value: 0.5944388508796692\n",
            "Epoch count 69: Loss value: 0.5944386720657349\n",
            "Epoch count 70: Loss value: 0.5944388508796692\n",
            "Epoch count 71: Loss value: 0.5944386720657349\n",
            "Epoch count 72: Loss value: 0.5944384932518005\n",
            "Epoch count 73: Loss value: 0.5944384336471558\n",
            "Epoch count 74: Loss value: 0.5944384932518005\n",
            "Epoch count 75: Loss value: 0.594438374042511\n",
            "Epoch count 76: Loss value: 0.5944380760192871\n",
            "Epoch count 77: Loss value: 0.594438374042511\n",
            "Epoch count 78: Loss value: 0.5944381952285767\n",
            "Epoch count 79: Loss value: 0.5944381952285767\n",
            "Epoch count 80: Loss value: 0.5944381952285767\n",
            "Epoch count 81: Loss value: 0.5944381952285767\n",
            "Epoch count 82: Loss value: 0.5944379568099976\n",
            "Epoch count 83: Loss value: 0.5944379568099976\n",
            "Epoch count 84: Loss value: 0.5944377779960632\n",
            "Epoch count 85: Loss value: 0.5944379568099976\n",
            "Epoch count 86: Loss value: 0.5944378972053528\n",
            "Epoch count 87: Loss value: 0.5944377183914185\n",
            "Epoch count 88: Loss value: 0.5944376587867737\n",
            "Epoch count 89: Loss value: 0.5944375395774841\n",
            "Epoch count 90: Loss value: 0.5944375991821289\n",
            "Epoch count 91: Loss value: 0.5944374203681946\n",
            "Epoch count 92: Loss value: 0.5944374799728394\n",
            "Epoch count 93: Loss value: 0.594437301158905\n",
            "Epoch count 94: Loss value: 0.5944373607635498\n",
            "Epoch count 95: Loss value: 0.5944374203681946\n",
            "Epoch count 96: Loss value: 0.5944374203681946\n",
            "Epoch count 97: Loss value: 0.5944371819496155\n",
            "Epoch count 98: Loss value: 0.5944372415542603\n",
            "Epoch count 99: Loss value: 0.5944371819496155\n"
          ]
        }
      ]
    },
    {
      "cell_type": "code",
      "source": [
        "print(weight.numpy())\n",
        "print(bias.numpy())"
      ],
      "metadata": {
        "colab": {
          "base_uri": "https://localhost:8080/"
        },
        "id": "5fZfkcHKRDUk",
        "outputId": "a210022a-737e-499e-8fa4-01fd236920ee"
      },
      "execution_count": 10,
      "outputs": [
        {
          "output_type": "stream",
          "name": "stdout",
          "text": [
            "1.0350504\n",
            "0.15523432\n"
          ]
        }
      ]
    },
    {
      "cell_type": "code",
      "source": [
        "# Plot the best fit line\n",
        "plt.scatter(x_train, y_train)\n",
        "plt.plot(x_train, linreg(x_train), 'r')\n",
        "plt.show()"
      ],
      "metadata": {
        "colab": {
          "base_uri": "https://localhost:8080/",
          "height": 265
        },
        "id": "F8-_Lj5xRS6U",
        "outputId": "a44f0472-a32d-4546-b53c-75d6a0365ec2"
      },
      "execution_count": 11,
      "outputs": [
        {
          "output_type": "display_data",
          "data": {
            "text/plain": [
              "<Figure size 432x288 with 1 Axes>"
            ],
            "image/png": "[encoded data removed]"
          },
          "metadata": {
            "needs_background": "light"
          }
        }
      ]
    },
    {
      "cell_type": "code",
      "source": [],
      "metadata": {
        "id": "tEO4LXmNRVE3"
      },
      "execution_count": null,
      "outputs": []
    }
  ]
}