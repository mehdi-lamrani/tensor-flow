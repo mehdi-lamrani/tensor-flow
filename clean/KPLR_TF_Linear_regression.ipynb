{
  "nbformat": 4,
  "nbformat_minor": 0,
  "metadata": {
    "colab": {
      "provenance": [],
      "authorship_tag": "ABX9TyP2V+oy1a8C3a9zpMTHZfVc",
      "include_colab_link": true
    },
    "kernelspec": {
      "name": "python3",
      "display_name": "Python 3"
    },
    "language_info": {
      "name": "python"
    }
  },
  "cells": [
    {
      "cell_type": "markdown",
      "metadata": {
        "id": "view-in-github",
        "colab_type": "text"
      },
      "source": [
        "<a href=\"https://colab.research.google.com/github/mehdi-lamrani/tensorflow/blob/main/clean/KPLR_TF_Linear_regression.ipynb\" target=\"_parent\"><img src=\"https://colab.research.google.com/assets/colab-badge.svg\" alt=\"Open In Colab\"/></a>"
      ]
    },
    {
      "cell_type": "code",
      "execution_count": null,
      "metadata": {
        "id": "QdSq4Rm-QrRn"
      },
      "outputs": [],
      "source": [
        "# Import Relevant libraries\n",
        "import tensorflow as tf\n",
        "import numpy as np\n",
        "import matplotlib.pyplot as plt"
      ]
    },
    {
      "cell_type": "code",
      "source": [
        "# Define Learning rate\n",
        "learning_rate = 0.01\n",
        "\n",
        "# Number of loops for training through all your data to update the parameters\n",
        "training_epochs = 100\n",
        "\n",
        "# the training dataset\n",
        "x_train = np.linspace(0, 10, 20)\n",
        "y_train = x_train + np.random.normal(0,1,20)\n",
        "\n",
        "# plot of data\n",
        "plt.scatter(x_train, y_train)"
      ],
      "metadata": {
        "colab": {
          "base_uri": "https://localhost:8080/",
          "height": 283
        },
        "id": "u3L4PxqaQtUe",
        "outputId": "ca1e69f7-923d-41c4-a2d9-cb5dac7eafe7"
      },
      "execution_count": null,
      "outputs": [
        {
          "output_type": "execute_result",
          "data": {
            "text/plain": [
              "<matplotlib.collections.PathCollection at 0x7f88dc2b83d0>"
            ]
          },
          "metadata": {},
          "execution_count": 4
        },
        {
          "output_type": "display_data",
          "data": {
            "text/plain": [
              "<Figure size 432x288 with 1 Axes>"
            ],
            "image/png": "[encoded data removed]"
          },
          "metadata": {
            "needs_background": "light"
          }
        }
      ]
    },
    {
      "cell_type": "code",
      "source": [
        "# declare weight & bias as tf Variables\n",
        "weight = tf.Variable(0.)\n",
        "bias = tf.Variable(0.)"
      ],
      "metadata": {
        "id": "DliQsd0FQuPN"
      },
      "execution_count": null,
      "outputs": []
    },
    {
      "cell_type": "code",
      "source": [
        "# Define linear regression expression y\n",
        "def linear_regression(x):\n",
        "  y = weight * x + bias\n",
        "  return y"
      ],
      "metadata": {
        "id": "LYxsCj6GQwOJ"
      },
      "execution_count": null,
      "outputs": []
    },
    {
      "cell_type": "code",
      "source": [
        "# Define loss function (MSE)\n",
        "def squared_error(y_pred, y_true):\n",
        "  return tf.reduce_mean(tf.square(y_pred - y_true))"
      ],
      "metadata": {
        "id": "RQvEp22NQ9Iw"
      },
      "execution_count": null,
      "outputs": []
    },
    {
      "cell_type": "code",
      "source": [
        "# train model\n",
        "for epoch in range(training_epochs):\n",
        "\n",
        "  # Compute loss within Gradient Tape context\n",
        "  with tf.GradientTape() as tape:\n",
        "    y_predicted = linear_regression(x_train)\n",
        "    loss = squared_error(y_predicted, y_train)\n",
        "\n",
        "    # Get gradients\n",
        "    gradients = tape.gradient(loss, [weight,bias])\n",
        "\n",
        "    # Adjust weights\n",
        "    weight.assign_sub(gradients[0]*learning_rate)\n",
        "    bias.assign_sub(gradients[1]*learning_rate)\n",
        "\n",
        "    # Print output\n",
        "    print(f\"Epoch count {epoch}: Loss value: {loss.numpy()}\")\n"
      ],
      "metadata": {
        "id": "Y9gou5zNRADY"
      },
      "execution_count": null,
      "outputs": []
    },
    {
      "cell_type": "code",
      "source": [
        "print(weight.numpy())\n",
        "print(bias.numpy())"
      ],
      "metadata": {
        "colab": {
          "base_uri": "https://localhost:8080/"
        },
        "id": "5fZfkcHKRDUk",
        "outputId": "a210022a-737e-499e-8fa4-01fd236920ee"
      },
      "execution_count": null,
      "outputs": [
        {
          "output_type": "stream",
          "name": "stdout",
          "text": [
            "1.0350504\n",
            "0.15523432\n"
          ]
        }
      ]
    },
    {
      "cell_type": "code",
      "source": [
        "# Plot the best fit line\n",
        "plt.scatter(x_train, y_train)\n",
        "plt.plot(x_train, linear_regression(x_train), 'r')\n",
        "plt.show()"
      ],
      "metadata": {
        "colab": {
          "base_uri": "https://localhost:8080/",
          "height": 265
        },
        "id": "F8-_Lj5xRS6U",
        "outputId": "a44f0472-a32d-4546-b53c-75d6a0365ec2"
      },
      "execution_count": null,
      "outputs": [
        {
          "output_type": "display_data",
          "data": {
            "text/plain": [
              "<Figure size 432x288 with 1 Axes>"
            ],
            "image/png": "[encoded data removed]"
          },
          "metadata": {
            "needs_background": "light"
          }
        }
      ]
    },
    {
      "cell_type": "code",
      "source": [],
      "metadata": {
        "id": "tEO4LXmNRVE3"
      },
      "execution_count": null,
      "outputs": []
    }
  ]
}