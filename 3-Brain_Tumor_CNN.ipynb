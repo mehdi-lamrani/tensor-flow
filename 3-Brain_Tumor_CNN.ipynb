{
  "nbformat": 4,
  "nbformat_minor": 0,
  "metadata": {
    "colab": {
      "provenance": [],
      "mount_file_id": "1GbaLhAsGaFxHFTdTZlWJpwbH2hIqm2nE",
      "authorship_tag": "ABX9TyNW/+dIyTw2Hgpd+21pucto",
      "include_colab_link": true
    },
    "kernelspec": {
      "name": "python3",
      "display_name": "Python 3"
    },
    "language_info": {
      "name": "python"
    },
    "accelerator": "GPU"
  },
  "cells": [
    {
      "cell_type": "markdown",
      "metadata": {
        "id": "view-in-github",
        "colab_type": "text"
      },
      "source": [
        "<a href=\"https://colab.research.google.com/github/mehdi-lamrani/tensor-flow/blob/main/Brain_Tumor_CNN.ipynb\" target=\"_parent\"><img src=\"https://colab.research.google.com/assets/colab-badge.svg\" alt=\"Open In Colab\"/></a>"
      ]
    },
    {
      "cell_type": "markdown",
      "source": [
        "## **Brain-tumor-classification-using-CNN**"
      ],
      "metadata": {
        "id": "Tv9tGQQ8JYCj"
      }
    },
    {
      "cell_type": "markdown",
      "source": [
        "- The main aim of this project is to use the CNN model and then classify whether a particular MRI scan has a tumor or not."
      ],
      "metadata": {
        "id": "oaLhPQEcJisW"
      }
    },
    {
      "cell_type": "markdown",
      "source": [
        "# Importing the libraries"
      ],
      "metadata": {
        "id": "ZcPzQYeTJoa8"
      }
    },
    {
      "cell_type": "code",
      "execution_count": 21,
      "metadata": {
        "id": "QbuAxIH1x0Gb"
      },
      "outputs": [],
      "source": [
        "import tensorflow as tf\n",
        "from keras.preprocessing.image import ImageDataGenerator\n",
        "import matplotlib.pyplot as plt\n",
        "import pandas as pd"
      ]
    },
    {
      "cell_type": "markdown",
      "source": [
        "# Part 1 - Data Preprocessing"
      ],
      "metadata": {
        "id": "YDWIimuFJysq"
      }
    },
    {
      "cell_type": "markdown",
      "source": [
        " Preprocessing the Training set"
      ],
      "metadata": {
        "id": "M-ZVjvBwJ0cf"
      }
    },
    {
      "cell_type": "code",
      "source": [
        "train_datagen = ImageDataGenerator(rescale = 1./255,\n",
        "                                   shear_range = 0.2,\n",
        "                                   zoom_range = 0.2,\n",
        "                                   horizontal_flip = True)"
      ],
      "metadata": {
        "id": "y9ybqGxsyBMY"
      },
      "execution_count": 2,
      "outputs": []
    },
    {
      "cell_type": "code",
      "source": [
        "training_set = train_datagen.flow_from_directory('/content/drive/MyDrive/DATA_tumeur/train_set',\n",
        "                                                 target_size = (64, 64),\n",
        "                                                 batch_size = 32,\n",
        "                                                 class_mode = 'binary')"
      ],
      "metadata": {
        "colab": {
          "base_uri": "https://localhost:8080/"
        },
        "id": "2WLQdlFHyH74",
        "outputId": "1fde2d13-cdff-4107-9419-490ac5d240bc"
      },
      "execution_count": 3,
      "outputs": [
        {
          "output_type": "stream",
          "name": "stdout",
          "text": [
            "Found 202 images belonging to 2 classes.\n"
          ]
        }
      ]
    },
    {
      "cell_type": "markdown",
      "source": [
        "Preprocessing the Test set"
      ],
      "metadata": {
        "id": "r_qdTc-bJ87p"
      }
    },
    {
      "cell_type": "code",
      "source": [
        "test_datagen = ImageDataGenerator(rescale = 1./255)\n"
      ],
      "metadata": {
        "id": "mrcJOhBs6e-6"
      },
      "execution_count": 4,
      "outputs": []
    },
    {
      "cell_type": "code",
      "source": [
        "test_set = test_datagen.flow_from_directory('/content/drive/MyDrive/DATA_tumeur/test_set',\n",
        "                                            target_size = (64, 64),\n",
        "                                            batch_size = 32,\n",
        "                                            class_mode = 'binary')"
      ],
      "metadata": {
        "colab": {
          "base_uri": "https://localhost:8080/"
        },
        "id": "Hm_G43an6nTI",
        "outputId": "4a129317-2d9c-4393-8ea1-6a7f247f0910"
      },
      "execution_count": 5,
      "outputs": [
        {
          "output_type": "stream",
          "name": "stdout",
          "text": [
            "Found 51 images belonging to 2 classes.\n"
          ]
        }
      ]
    },
    {
      "cell_type": "markdown",
      "source": [
        "# **Part 2 - Building the CNN**\n"
      ],
      "metadata": {
        "id": "5yk_jTczKHlS"
      }
    },
    {
      "cell_type": "markdown",
      "source": [
        "# Initialising the CNN"
      ],
      "metadata": {
        "id": "SwfLwSs_KLs4"
      }
    },
    {
      "cell_type": "code",
      "source": [
        "cnn = tf.keras.models.Sequential()"
      ],
      "metadata": {
        "id": "6n8Q5tO_7HBV"
      },
      "execution_count": 6,
      "outputs": []
    },
    {
      "cell_type": "markdown",
      "source": [
        "# Step 1 - Convolution"
      ],
      "metadata": {
        "id": "6X8iXHVFKSS6"
      }
    },
    {
      "cell_type": "code",
      "source": [
        "cnn.add(tf.keras.layers.Conv2D(filters=32, kernel_size=3, activation='relu', input_shape=[64, 64, 3]))"
      ],
      "metadata": {
        "id": "sgpl5YuT7IVH"
      },
      "execution_count": 7,
      "outputs": []
    },
    {
      "cell_type": "markdown",
      "source": [
        "# Step 2 - Pooling"
      ],
      "metadata": {
        "id": "xZqhT_XxKWdU"
      }
    },
    {
      "cell_type": "code",
      "source": [
        "cnn.add(tf.keras.layers.MaxPool2D(pool_size=2, strides=2))"
      ],
      "metadata": {
        "id": "iwFBgxnV7OO6"
      },
      "execution_count": 8,
      "outputs": []
    },
    {
      "cell_type": "markdown",
      "source": [
        "# Adding a second convolutional layer"
      ],
      "metadata": {
        "id": "SzEEb0avKbpI"
      }
    },
    {
      "cell_type": "code",
      "source": [
        "cnn.add(tf.keras.layers.Conv2D(filters=64, kernel_size=3, activation='relu'))\n",
        "cnn.add(tf.keras.layers.MaxPool2D(pool_size=2, strides=2))"
      ],
      "metadata": {
        "id": "pIKktYK47Rwn"
      },
      "execution_count": 9,
      "outputs": []
    },
    {
      "cell_type": "markdown",
      "source": [
        "# Step 3 - Flattening"
      ],
      "metadata": {
        "id": "FntyzTidKe5e"
      }
    },
    {
      "cell_type": "code",
      "source": [
        "cnn.add(tf.keras.layers.Flatten())"
      ],
      "metadata": {
        "id": "x_UVAOhV7Uy7"
      },
      "execution_count": 10,
      "outputs": []
    },
    {
      "cell_type": "markdown",
      "source": [
        "# Step 4 - Full Connection"
      ],
      "metadata": {
        "id": "jDMZnAt4Kjm7"
      }
    },
    {
      "cell_type": "code",
      "source": [
        "cnn.add(tf.keras.layers.Dense(units=128, activation='relu'))"
      ],
      "metadata": {
        "id": "enjnVuKp7Xaq"
      },
      "execution_count": 11,
      "outputs": []
    },
    {
      "cell_type": "markdown",
      "source": [
        "# Step 5- Dropout "
      ],
      "metadata": {
        "id": "P1n_4RIsKmqG"
      }
    },
    {
      "cell_type": "code",
      "source": [
        "cnn.add(tf.keras.layers.Dropout(0.6))"
      ],
      "metadata": {
        "id": "t_170G58D5Ig"
      },
      "execution_count": 12,
      "outputs": []
    },
    {
      "cell_type": "markdown",
      "source": [
        "# Step 6 - Output Layer"
      ],
      "metadata": {
        "id": "vz7daVurK0Uw"
      }
    },
    {
      "cell_type": "code",
      "source": [
        "cnn.add(tf.keras.layers.Dense(units=1, activation='sigmoid'))"
      ],
      "metadata": {
        "id": "6F9-M5s97aDX"
      },
      "execution_count": 13,
      "outputs": []
    },
    {
      "cell_type": "markdown",
      "source": [
        "## **Part 3 - Training the CNN**"
      ],
      "metadata": {
        "id": "DwL1Y22IK-nI"
      }
    },
    {
      "cell_type": "markdown",
      "source": [
        "# Compiling the CNN"
      ],
      "metadata": {
        "id": "6_jzcSrYLBAe"
      }
    },
    {
      "cell_type": "code",
      "source": [
        "cnn.compile(optimizer = 'adam', loss = 'binary_crossentropy', metrics = ['accuracy'])"
      ],
      "metadata": {
        "id": "YfVRdpIJ7ddV"
      },
      "execution_count": 14,
      "outputs": []
    },
    {
      "cell_type": "markdown",
      "source": [
        "# Training the CNN on the Training set and evaluating it on the Test set"
      ],
      "metadata": {
        "id": "8woZYadYLEJB"
      }
    },
    {
      "cell_type": "code",
      "source": [
        "history=cnn.fit(x = training_set, validation_data = test_set, epochs = 10)"
      ],
      "metadata": {
        "colab": {
          "base_uri": "https://localhost:8080/"
        },
        "id": "19XIHZec7gZJ",
        "outputId": "dd8069dd-e4ca-49c7-c552-19cb848bbc2a"
      },
      "execution_count": 15,
      "outputs": [
        {
          "output_type": "stream",
          "name": "stdout",
          "text": [
            "Epoch 1/10\n",
            "7/7 [==============================] - 5s 219ms/step - loss: 0.6787 - accuracy: 0.5545 - val_loss: 0.6231 - val_accuracy: 0.8431\n",
            "Epoch 2/10\n",
            "7/7 [==============================] - 1s 188ms/step - loss: 0.6000 - accuracy: 0.6782 - val_loss: 0.6059 - val_accuracy: 0.6078\n",
            "Epoch 3/10\n",
            "7/7 [==============================] - 1s 167ms/step - loss: 0.6251 - accuracy: 0.6683 - val_loss: 0.5637 - val_accuracy: 0.8627\n",
            "Epoch 4/10\n",
            "7/7 [==============================] - 1s 174ms/step - loss: 0.5924 - accuracy: 0.6881 - val_loss: 0.5485 - val_accuracy: 0.7843\n",
            "Epoch 5/10\n",
            "7/7 [==============================] - 1s 168ms/step - loss: 0.5788 - accuracy: 0.7178 - val_loss: 0.4846 - val_accuracy: 0.8235\n",
            "Epoch 6/10\n",
            "7/7 [==============================] - 1s 174ms/step - loss: 0.5733 - accuracy: 0.6980 - val_loss: 0.4748 - val_accuracy: 0.8431\n",
            "Epoch 7/10\n",
            "7/7 [==============================] - 1s 184ms/step - loss: 0.5620 - accuracy: 0.7129 - val_loss: 0.4854 - val_accuracy: 0.8039\n",
            "Epoch 8/10\n",
            "7/7 [==============================] - 1s 163ms/step - loss: 0.5855 - accuracy: 0.7079 - val_loss: 0.5289 - val_accuracy: 0.7255\n",
            "Epoch 9/10\n",
            "7/7 [==============================] - 1s 168ms/step - loss: 0.5702 - accuracy: 0.7079 - val_loss: 0.4814 - val_accuracy: 0.8039\n",
            "Epoch 10/10\n",
            "7/7 [==============================] - 1s 164ms/step - loss: 0.5276 - accuracy: 0.7525 - val_loss: 0.4340 - val_accuracy: 0.8627\n"
          ]
        }
      ]
    },
    {
      "cell_type": "code",
      "source": [
        "metrics_df = pd.DataFrame(history.history)"
      ],
      "metadata": {
        "id": "lwKUuP52CAzb"
      },
      "execution_count": 16,
      "outputs": []
    },
    {
      "cell_type": "code",
      "source": [
        "metrics_df[[\"accuracy\",\"val_accuracy\"]].plot()"
      ],
      "metadata": {
        "colab": {
          "base_uri": "https://localhost:8080/",
          "height": 282
        },
        "id": "NdypCNTXCTVZ",
        "outputId": "34ad5da0-e418-432f-bf06-34d06b77fee9"
      },
      "execution_count": 17,
      "outputs": [
        {
          "output_type": "execute_result",
          "data": {
            "text/plain": [
              "<matplotlib.axes._subplots.AxesSubplot at 0x7f2c921cd090>"
            ]
          },
          "metadata": {},
          "execution_count": 17
        },
        {
          "output_type": "display_data",
          "data": {
            "text/plain": [
              "<Figure size 432x288 with 1 Axes>"
            ],
            "image/png": "[encoded data removed]"
          },
          "metadata": {
            "needs_background": "light"
          }
        }
      ]
    },
    {
      "cell_type": "code",
      "source": [
        "metrics_df[[\"loss\",\"val_loss\"]].plot()\n"
      ],
      "metadata": {
        "colab": {
          "base_uri": "https://localhost:8080/",
          "height": 282
        },
        "id": "0DBh-L7eFtNQ",
        "outputId": "e741ec15-edfe-45df-e6fb-4520499d6bb2"
      },
      "execution_count": 18,
      "outputs": [
        {
          "output_type": "execute_result",
          "data": {
            "text/plain": [
              "<matplotlib.axes._subplots.AxesSubplot at 0x7f2c920e42d0>"
            ]
          },
          "metadata": {},
          "execution_count": 18
        },
        {
          "output_type": "display_data",
          "data": {
            "text/plain": [
              "<Figure size 432x288 with 1 Axes>"
            ],
            "image/png": "[encoded data removed]"
          },
          "metadata": {
            "needs_background": "light"
          }
        }
      ]
    }
  ]
}
