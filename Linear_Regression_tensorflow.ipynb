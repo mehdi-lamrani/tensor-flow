{
  "nbformat": 4,
  "nbformat_minor": 0,
  "metadata": {
    "colab": {
      "provenance": [],
      "authorship_tag": "ABX9TyPQLRU1SNpoe/6sLGK3nOMa",
      "include_colab_link": true
    },
    "kernelspec": {
      "name": "python3",
      "display_name": "Python 3"
    },
    "language_info": {
      "name": "python"
    }
  },
  "cells": [
    {
      "cell_type": "markdown",
      "metadata": {
        "id": "view-in-github",
        "colab_type": "text"
      },
      "source": [
        "<a href=\"https://colab.research.google.com/github/mehdi-lamrani/tensor-flow/blob/main/Linear_Regression_tensorflow.ipynb\" target=\"_parent\"><img src=\"https://colab.research.google.com/assets/colab-badge.svg\" alt=\"Open In Colab\"/></a>"
      ]
    },
    {
      "cell_type": "markdown",
      "source": [
        "# **Linear Regression with tensorflow**"
      ],
      "metadata": {
        "id": "lGMVLZcrvgqW"
      }
    },
    {
      "cell_type": "code",
      "execution_count": 5,
      "metadata": {
        "id": "8Qbm5kMivW5O"
      },
      "outputs": [],
      "source": [
        "from __future__ import absolute_import, division, print_function"
      ]
    },
    {
      "cell_type": "code",
      "source": [
        "import tensorflow as tf\n",
        "import numpy as np\n",
        "rng = np.random"
      ],
      "metadata": {
        "id": "tZhqRtkvvpx1"
      },
      "execution_count": 6,
      "outputs": []
    },
    {
      "cell_type": "markdown",
      "source": [
        "Définissons nos paramètres :"
      ],
      "metadata": {
        "id": "oXwhGUG7vsud"
      }
    },
    {
      "cell_type": "code",
      "source": [
        "learning_rate = 0.01\n",
        "training_steps = 1000\n",
        "display_step = 50\n"
      ],
      "metadata": {
        "id": "xOblEyWZv1aY"
      },
      "execution_count": 7,
      "outputs": []
    },
    {
      "cell_type": "markdown",
      "source": [
        "Training Data"
      ],
      "metadata": {
        "id": "Znun5H_Ev9AV"
      }
    },
    {
      "cell_type": "code",
      "source": [
        "X = np.array([3.3,4.4,5.5,6.71,6.93,4.168,9.779,6.182,7.59,2.167,\n",
        "              7.042,10.791,5.313,7.997,5.654,9.27,3.1])\n",
        "Y = np.array([1.7,2.76,2.09,3.19,1.694,1.573,3.366,2.596,2.53,1.221,\n",
        "              2.827,3.465,1.65,2.904,2.42,2.94,1.3])"
      ],
      "metadata": {
        "id": "5QsDFP9DwAX9"
      },
      "execution_count": 8,
      "outputs": []
    },
    {
      "cell_type": "markdown",
      "source": [
        "Weight and Bias, initialisés de manière aléatoire."
      ],
      "metadata": {
        "id": "LW6Vn0h9wGRn"
      }
    },
    {
      "cell_type": "code",
      "source": [
        "W = tf.Variable(rng.randn(), name=\"weight\")\n",
        "b = tf.Variable(rng.randn(), name=\"bias\")"
      ],
      "metadata": {
        "id": "U7UhTS4RwrGF"
      },
      "execution_count": 9,
      "outputs": []
    },
    {
      "cell_type": "markdown",
      "source": [
        "Linear regression (Wx + b)"
      ],
      "metadata": {
        "id": "wiInqMH2w4iH"
      }
    },
    {
      "cell_type": "code",
      "source": [
        "def linear_regression(x):\n",
        "    return W * x + b"
      ],
      "metadata": {
        "id": "CcuyHWSFw6i7"
      },
      "execution_count": 10,
      "outputs": []
    },
    {
      "cell_type": "markdown",
      "source": [
        "Mean square error"
      ],
      "metadata": {
        "id": "sT0e_khuw9sz"
      }
    },
    {
      "cell_type": "code",
      "source": [
        "def mean_square(y_pred, y_true):\n",
        "    return tf.reduce_mean(tf.square(y_pred - y_true))\n"
      ],
      "metadata": {
        "id": "J2AmI7C5w_Rq"
      },
      "execution_count": 11,
      "outputs": []
    },
    {
      "cell_type": "markdown",
      "source": [
        "Stochastic Gradient Descent Optimizer"
      ],
      "metadata": {
        "id": "iA-Z4xNRxOIg"
      }
    },
    {
      "cell_type": "code",
      "source": [
        "optimizer = tf.optimizers.SGD(learning_rate)"
      ],
      "metadata": {
        "id": "lSR6yr_AxRAU"
      },
      "execution_count": 12,
      "outputs": []
    },
    {
      "cell_type": "markdown",
      "source": [
        "Optimization process. "
      ],
      "metadata": {
        "id": "o33zoUTUxUhF"
      }
    },
    {
      "cell_type": "code",
      "source": [
        "def run_optimization():\n",
        "    # Wrap computation inside a GradientTape for automatic differentiation.\n",
        "    with tf.GradientTape() as g:\n",
        "        pred = linear_regression(X)\n",
        "        loss = mean_square(pred, Y)\n",
        "\n",
        "    # Compute gradients.\n",
        "    gradients = g.gradient(loss, [W, b])\n",
        "    \n",
        "    # Update W and b following gradients.\n",
        "    optimizer.apply_gradients(zip(gradients, [W, b]))"
      ],
      "metadata": {
        "id": "mi4lUqvFxVS3"
      },
      "execution_count": 13,
      "outputs": []
    },
    {
      "cell_type": "markdown",
      "source": [
        "Run training for the given number of steps"
      ],
      "metadata": {
        "id": "-hRAvzKpxb7_"
      }
    },
    {
      "cell_type": "code",
      "source": [
        "for step in range(1, training_steps + 1):\n",
        "    # Run the optimization to update W and b values.\n",
        "    run_optimization()\n",
        "    \n",
        "    if step % display_step == 0:\n",
        "        pred = linear_regression(X)\n",
        "        loss = mean_square(pred, Y)\n",
        "        print(\"step: %i, loss: %f, W: %f, b: %f\" % (step, loss, W.numpy(), b.numpy()))"
      ],
      "metadata": {
        "colab": {
          "base_uri": "https://localhost:8080/"
        },
        "id": "i-7BfKSexaMy",
        "outputId": "a4a5b25f-13e2-42dd-bd79-b3414812eae9"
      },
      "execution_count": 14,
      "outputs": [
        {
          "output_type": "stream",
          "name": "stdout",
          "text": [
            "step: 50, loss: 0.233418, W: 0.138558, b: 1.600466\n",
            "step: 100, loss: 0.216251, W: 0.151498, b: 1.508726\n",
            "step: 150, loss: 0.202788, W: 0.162957, b: 1.427486\n",
            "step: 200, loss: 0.192230, W: 0.173105, b: 1.355541\n",
            "step: 250, loss: 0.183950, W: 0.182092, b: 1.291830\n",
            "step: 300, loss: 0.177457, W: 0.190050, b: 1.235410\n",
            "step: 350, loss: 0.172365, W: 0.197098, b: 1.185447\n",
            "step: 400, loss: 0.168371, W: 0.203339, b: 1.141200\n",
            "step: 450, loss: 0.165240, W: 0.208865, b: 1.102017\n",
            "step: 500, loss: 0.162784, W: 0.213760, b: 1.067318\n",
            "step: 550, loss: 0.160858, W: 0.218094, b: 1.036590\n",
            "step: 600, loss: 0.159347, W: 0.221932, b: 1.009378\n",
            "step: 650, loss: 0.158163, W: 0.225332, b: 0.985281\n",
            "step: 700, loss: 0.157234, W: 0.228342, b: 0.963941\n",
            "step: 750, loss: 0.156505, W: 0.231007, b: 0.945043\n",
            "step: 800, loss: 0.155934, W: 0.233368, b: 0.928308\n",
            "step: 850, loss: 0.155486, W: 0.235458, b: 0.913487\n",
            "step: 900, loss: 0.155135, W: 0.237309, b: 0.900363\n",
            "step: 950, loss: 0.154859, W: 0.238949, b: 0.888741\n",
            "step: 1000, loss: 0.154643, W: 0.240401, b: 0.878448\n"
          ]
        }
      ]
    },
    {
      "cell_type": "code",
      "source": [
        "import matplotlib.pyplot as plt"
      ],
      "metadata": {
        "id": "PiIyzjJhxhsm"
      },
      "execution_count": 15,
      "outputs": []
    },
    {
      "cell_type": "markdown",
      "source": [
        "Graphic display"
      ],
      "metadata": {
        "id": "YSAuzjA0xmpT"
      }
    },
    {
      "cell_type": "code",
      "source": [
        "plt.plot(X, Y, 'ro', label='Original data')\n",
        "plt.plot(X, np.array(W * X + b), label='Fitted line')\n",
        "plt.legend()\n",
        "plt.show()"
      ],
      "metadata": {
        "colab": {
          "base_uri": "https://localhost:8080/",
          "height": 265
        },
        "id": "Mg0hjR79xl7M",
        "outputId": "548f2e71-7d30-49df-ab90-4908f141ade5"
      },
      "execution_count": 16,
      "outputs": [
        {
          "output_type": "display_data",
          "data": {
            "text/plain": [
              "<Figure size 432x288 with 1 Axes>"
            ],
            "image/png": "[encoded data removed]"
          },
          "metadata": {
            "needs_background": "light"
          }
        }
      ]
    }
  ]
}