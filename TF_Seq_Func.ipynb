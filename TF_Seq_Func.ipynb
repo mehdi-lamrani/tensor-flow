{
  "nbformat": 4,
  "nbformat_minor": 0,
  "metadata": {
    "colab": {
      "provenance": [],
      "authorship_tag": "ABX9TyPauHQkc9K0yyn9cyLKvdAN",
      "include_colab_link": true
    },
    "kernelspec": {
      "name": "python3",
      "display_name": "Python 3"
    },
    "language_info": {
      "name": "python"
    }
  },
  "cells": [
    {
      "cell_type": "markdown",
      "metadata": {
        "id": "view-in-github",
        "colab_type": "text"
      },
      "source": [
        "<a href=\"https://colab.research.google.com/github/mehdi-lamrani/tensorflow/blob/main/TF_Seq_Func.ipynb\" target=\"_parent\"><img src=\"https://colab.research.google.com/assets/colab-badge.svg\" alt=\"Open In Colab\"/></a>"
      ]
    },
    {
      "cell_type": "markdown",
      "source": [
        "https://tensorspace.org/html/playground/resnet50.html"
      ],
      "metadata": {
        "id": "zO11SOwRCIU6"
      }
    },
    {
      "cell_type": "code",
      "execution_count": 1,
      "metadata": {
        "colab": {
          "base_uri": "https://localhost:8080/",
          "height": 372
        },
        "id": "27wLmSiIA42R",
        "outputId": "6bd672bb-5e92-4e9c-e739-5e03ae35f5da"
      },
      "outputs": [
        {
          "output_type": "stream",
          "name": "stdout",
          "text": [
            "Downloading data from https://storage.googleapis.com/tensorflow/tf-keras-datasets/train-labels-idx1-ubyte.gz\n",
            "29515/29515 [==============================] - 0s 0us/step\n",
            "Downloading data from https://storage.googleapis.com/tensorflow/tf-keras-datasets/train-images-idx3-ubyte.gz\n",
            "26421880/26421880 [==============================] - 0s 0us/step\n",
            "Downloading data from https://storage.googleapis.com/tensorflow/tf-keras-datasets/t10k-labels-idx1-ubyte.gz\n",
            "5148/5148 [==============================] - 0s 0us/step\n",
            "Downloading data from https://storage.googleapis.com/tensorflow/tf-keras-datasets/t10k-images-idx3-ubyte.gz\n",
            "4422102/4422102 [==============================] - 0s 0us/step\n"
          ]
        },
        {
          "output_type": "display_data",
          "data": {
            "text/plain": [
              "<Figure size 1152x288 with 7 Axes>"
            ],
            "image/png": "[encoded data removed]"
          },
          "metadata": {
            "needs_background": "light"
          }
        },
        {
          "output_type": "stream",
          "name": "stdout",
          "text": [
            "Original shape of X_train = (60000, 28, 28)\n",
            "Original shape of X_test = (10000, 28, 28)\n",
            "New X_train shape (60000, 784)\n",
            "New X_test shape (10000, 784)\n"
          ]
        }
      ],
      "source": [
        "import numpy as np\n",
        "import matplotlib.pyplot as plt\n",
        "from keras.utils import to_categorical\n",
        "from keras.datasets import fashion_mnist\n",
        "from keras.models import Sequential, Model\n",
        "from keras.layers import Dense, Input\n",
        "\n",
        "# Import fashion MNIST dataset\n",
        "(X_train, y_train), (X_test, y_test) = fashion_mnist.load_data()\n",
        "\n",
        "# Display the first 7 images\n",
        "fig, axes = plt.subplots(ncols=7, sharex=False,\n",
        "\t\t\t\t\t\t sharey=True, figsize=(16, 4))\n",
        "\n",
        "for i in range(7):\n",
        "\taxes[i].set_title(y_train[i])\n",
        "\taxes[i].imshow(X_train[i], cmap='gray')\n",
        "\taxes[i].get_xaxis().set_visible(False)\n",
        "\taxes[i].get_yaxis().set_visible(False)\n",
        "plt.show()\n",
        "\n",
        "print(\"Original shape of X_train =\", X_train.shape)\n",
        "print(\"Original shape of X_test =\", X_test.shape, end='\\n')\n",
        "\n",
        "# Reshape X_train to (60000, 784) and X_test to (10000, 784)\n",
        "X_train = X_train.reshape(X_train.shape[0], X_train.shape[1]*X_train.shape[2])\n",
        "X_test = X_test.reshape(X_test.shape[0], X_test.shape[1]*X_test.shape[2])\n",
        "\n",
        "print(\"New X_train shape\", X_train.shape)\n",
        "print(\"New X_test shape\", X_test.shape, end='\\n')\n",
        "\n",
        "# Convert target (y_train and y_test) into one-hot\n",
        "temp = []\n",
        "for i in range(len(y_train)):\n",
        "    temp.append(to_categorical(y_train[i], num_classes=10))\n",
        "    \n",
        "y_train = np.array(temp)\n",
        "\n",
        "temp = []\n",
        "for i in range(len(y_test)):\n",
        "    temp.append(to_categorical(y_test[i], num_classes=10))\n",
        "\n",
        "y_test = np.array(temp)\n",
        "\n"
      ]
    },
    {
      "cell_type": "code",
      "source": [
        "# Create and train sequential model\n",
        "model_seq = Sequential()\n",
        "model_seq.add(Dense(5, activation='sigmoid', input_shape=(X_train.shape[1],)))\n",
        "model_seq.add(Dense(4, activation='sigmoid'))\n",
        "model_seq.add(Dense(10, activation='softmax'))\n",
        "\n",
        "model_seq.summary()\n",
        "\n",
        "model_seq.compile(loss='categorical_crossentropy', \n",
        "                  optimizer='adam', \n",
        "                  metrics=['acc'])\n",
        "\n",
        "model_seq.fit(X_train, y_train, epochs=3, \n",
        "              validation_data=(X_test,y_test))\n",
        "\n"
      ],
      "metadata": {
        "colab": {
          "base_uri": "https://localhost:8080/"
        },
        "id": "2LoSl6A3BA_S",
        "outputId": "765d733b-8cf8-401b-86d4-7952ffd00332"
      },
      "execution_count": 2,
      "outputs": [
        {
          "output_type": "stream",
          "name": "stdout",
          "text": [
            "Model: \"sequential\"\n",
            "_________________________________________________________________\n",
            " Layer (type)                Output Shape              Param #   \n",
            "=================================================================\n",
            " dense (Dense)               (None, 5)                 3925      \n",
            "                                                                 \n",
            " dense_1 (Dense)             (None, 4)                 24        \n",
            "                                                                 \n",
            " dense_2 (Dense)             (None, 10)                50        \n",
            "                                                                 \n",
            "=================================================================\n",
            "Total params: 3,999\n",
            "Trainable params: 3,999\n",
            "Non-trainable params: 0\n",
            "_________________________________________________________________\n",
            "Epoch 1/3\n",
            "1875/1875 [==============================] - 7s 3ms/step - loss: 2.0280 - acc: 0.3105 - val_loss: 1.7513 - val_acc: 0.4112\n",
            "Epoch 2/3\n",
            "1875/1875 [==============================] - 4s 2ms/step - loss: 1.5729 - acc: 0.4053 - val_loss: 1.7197 - val_acc: 0.3062\n",
            "Epoch 3/3\n",
            "1875/1875 [==============================] - 4s 2ms/step - loss: 1.3199 - acc: 0.4667 - val_loss: 1.2344 - val_acc: 0.5107\n"
          ]
        },
        {
          "output_type": "execute_result",
          "data": {
            "text/plain": [
              "<keras.callbacks.History at 0x7ff97c557210>"
            ]
          },
          "metadata": {},
          "execution_count": 2
        }
      ]
    },
    {
      "cell_type": "code",
      "source": [
        "# Create and train functional model\n",
        "input1 = Input(shape=(X_train.shape[1],))\n",
        "hidden1 = Dense(5, activation='sigmoid')(input1)\n",
        "hidden2 = Dense(4, activation='sigmoid')(hidden1)\n",
        "output = Dense(10, activation='softmax')(hidden2)\n",
        "model_func = Model(inputs=input1, outputs=output)\n",
        "\n",
        "model_func.summary()\n",
        "\n",
        "model_func.compile(loss='categorical_crossentropy', \n",
        "                   optimizer='adam', \n",
        "                   metrics=['acc'])\n",
        "\n",
        "model_func.fit(X_train, y_train, epochs=3, \n",
        "               validation_data=(X_test,y_test))"
      ],
      "metadata": {
        "colab": {
          "base_uri": "https://localhost:8080/"
        },
        "id": "f_Y72_xhBCag",
        "outputId": "d63b0716-e28a-4bbf-d077-f4b3b83bac18"
      },
      "execution_count": 3,
      "outputs": [
        {
          "output_type": "stream",
          "name": "stdout",
          "text": [
            "Model: \"model\"\n",
            "_________________________________________________________________\n",
            " Layer (type)                Output Shape              Param #   \n",
            "=================================================================\n",
            " input_1 (InputLayer)        [(None, 784)]             0         \n",
            "                                                                 \n",
            " dense_3 (Dense)             (None, 5)                 3925      \n",
            "                                                                 \n",
            " dense_4 (Dense)             (None, 4)                 24        \n",
            "                                                                 \n",
            " dense_5 (Dense)             (None, 10)                50        \n",
            "                                                                 \n",
            "=================================================================\n",
            "Total params: 3,999\n",
            "Trainable params: 3,999\n",
            "Non-trainable params: 0\n",
            "_________________________________________________________________\n",
            "Epoch 1/3\n",
            "1875/1875 [==============================] - 5s 2ms/step - loss: 1.9502 - acc: 0.3021 - val_loss: 1.7158 - val_acc: 0.3695\n",
            "Epoch 2/3\n",
            "1875/1875 [==============================] - 4s 2ms/step - loss: 1.5298 - acc: 0.3731 - val_loss: 1.4713 - val_acc: 0.3624\n",
            "Epoch 3/3\n",
            "1875/1875 [==============================] - 4s 2ms/step - loss: 1.4229 - acc: 0.3702 - val_loss: 1.3775 - val_acc: 0.3744\n"
          ]
        },
        {
          "output_type": "execute_result",
          "data": {
            "text/plain": [
              "<keras.callbacks.History at 0x7ff976759790>"
            ]
          },
          "metadata": {},
          "execution_count": 3
        }
      ]
    }
  ]
}